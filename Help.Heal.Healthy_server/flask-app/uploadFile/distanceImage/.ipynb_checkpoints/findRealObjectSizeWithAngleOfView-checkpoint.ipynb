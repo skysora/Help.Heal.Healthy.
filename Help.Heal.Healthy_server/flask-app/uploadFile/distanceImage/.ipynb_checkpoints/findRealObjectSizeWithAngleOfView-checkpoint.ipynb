{
 "cells": [
  {
   "cell_type": "code",
   "execution_count": 1,
   "metadata": {},
   "outputs": [],
   "source": [
    "import cv2\n",
    "import matplotlib.pyplot as plt\n",
    "import os"
   ]
  },
  {
   "cell_type": "code",
   "execution_count": 2,
   "metadata": {},
   "outputs": [],
   "source": [
    "def getImageRectangleSize(imagePath):\n",
    "    #read image with grayscale\n",
    "    image = cv2.imread(imagePath, 0)\n",
    "    # Otsu's thresholding after Gaussian filtering\n",
    "    blur = cv2.GaussianBlur(image,(5,5),0)\n",
    "    ret, image = cv2.threshold(blur, 200, 255, cv2.THRESH_BINARY_INV + cv2.THRESH_OTSU)\n",
    "    cnts, _ = cv2.findContours(image, cv2.RETR_EXTERNAL, cv2.CHAIN_APPROX_SIMPLE)\n",
    "    #print(len(cnts))\n",
    "    \n",
    "    show = np.zeros((image.shape[0], image.shape[1], 3), np.int8)\n",
    "    cv2.drawContours(show, cnts, -1, (255, 0, 0), 10)\n",
    "    maxContour = max(cnts, key=cv2.contourArea)\n",
    "    x, y, w, h = cv2.boundingRect(maxContour)\n",
    "    cv2.rectangle(show, (x, y), (x+w, y+h), (0, 255, 0), 10)\n",
    "\n",
    "    #show image\n",
    "    plt.imshow(show)\n",
    "    plt.axis('off')\n",
    "    plt.title(imagePath)\n",
    "    plt.show()\n",
    "    \n",
    "    return w, h"
   ]
  },
  {
   "cell_type": "code",
   "execution_count": null,
   "metadata": {},
   "outputs": [],
   "source": [
    "image = './1_50_50'"
   ]
  }
 ],
 "metadata": {
  "kernelspec": {
   "display_name": "Python 3",
   "language": "python",
   "name": "python3"
  },
  "language_info": {
   "codemirror_mode": {
    "name": "ipython",
    "version": 3
   },
   "file_extension": ".py",
   "mimetype": "text/x-python",
   "name": "python",
   "nbconvert_exporter": "python",
   "pygments_lexer": "ipython3",
   "version": "3.6.9"
  }
 },
 "nbformat": 4,
 "nbformat_minor": 4
}
